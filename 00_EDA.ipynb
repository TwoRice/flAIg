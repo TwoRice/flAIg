{
 "cells": [
  {
   "cell_type": "markdown",
   "id": "32635805-fc6b-441a-b817-d3d41574db12",
   "metadata": {},
   "source": [
    "### Imports"
   ]
  },
  {
   "cell_type": "code",
   "execution_count": 1,
   "id": "7526a935-182c-4b72-a002-a1cbd7d14d0d",
   "metadata": {
    "tags": []
   },
   "outputs": [],
   "source": [
    "import itertools\n",
    "import pandas as pd\n",
    "\n",
    "import numpy as np\n",
    "from PIL import Image\n",
    "from glob import glob\n",
    "from tqdm import tqdm"
   ]
  },
  {
   "cell_type": "markdown",
   "id": "e293f724-ccb1-4ef7-99f4-7265558d825d",
   "metadata": {},
   "source": [
    "### Constants"
   ]
  },
  {
   "cell_type": "code",
   "execution_count": 2,
   "id": "8ee40787-cc75-49a5-8b42-dd913dba4a9d",
   "metadata": {
    "tags": []
   },
   "outputs": [],
   "source": [
    "FLAG_PATHS = glob(\"flag_images/*.gif\")"
   ]
  },
  {
   "cell_type": "markdown",
   "id": "4a9a1a20-3497-4c8c-8741-4ad822355cc9",
   "metadata": {},
   "source": [
    "### Utilities"
   ]
  },
  {
   "cell_type": "code",
   "execution_count": 3,
   "id": "993aee66-a9d5-443e-beea-f60294036c33",
   "metadata": {},
   "outputs": [],
   "source": [
    "def round_rgb(value, base=16):\n",
    "    return min(round(value/base)*base, 255)"
   ]
  },
  {
   "cell_type": "markdown",
   "id": "aeab1ae6-2e2c-45c6-9bb6-f6a189874ba3",
   "metadata": {},
   "source": [
    "### Load Data"
   ]
  },
  {
   "cell_type": "code",
   "execution_count": 4,
   "id": "41486620-edc2-49b1-bc69-fef51072c028",
   "metadata": {
    "tags": []
   },
   "outputs": [],
   "source": [
    "images = [Image.open(path).convert(\"RGB\") for path in FLAG_PATHS]"
   ]
  },
  {
   "cell_type": "markdown",
   "id": "5d0aea45-dfdc-4a01-b2b7-dedff5a52a71",
   "metadata": {},
   "source": [
    "### Image Size/Aspect"
   ]
  },
  {
   "cell_type": "code",
   "execution_count": 5,
   "id": "edf8db2c-a9c5-40fa-b01e-a9be1459b9ce",
   "metadata": {},
   "outputs": [
    {
     "name": "stdout",
     "output_type": "stream",
     "text": [
      "aspect\n",
      "2.000000    41\n",
      "1.498127    39\n",
      "1.497006    33\n",
      "1.500000    12\n",
      "1.992032     9\n",
      "            ..\n",
      "1.382271     1\n",
      "1.779359     1\n",
      "1.646091     1\n",
      "2.007092     1\n",
      "1.544402     1\n",
      "Name: count, Length: 84, dtype: int64\n"
     ]
    },
    {
     "data": {
      "text/plain": [
       "<Axes: >"
      ]
     },
     "execution_count": 5,
     "metadata": {},
     "output_type": "execute_result"
    },
    {
     "data": {
      "image/png": "[encoded data removed]",
      "text/plain": [
       "<Figure size 640x480 with 1 Axes>"
      ]
     },
     "metadata": {},
     "output_type": "display_data"
    }
   ],
   "source": [
    "img_sizes = pd.DataFrame([img.size for img in images], columns=[\"width\", \"height\"])\n",
    "img_sizes[\"aspect\"] = img_sizes.apply(lambda row: row.width/row.height, axis=1)\n",
    "print(img_sizes.aspect.value_counts())\n",
    "img_sizes.aspect.hist()"
   ]
  },
  {
   "cell_type": "markdown",
   "id": "484d7a53-0430-4d0e-9de6-06b1c1f019b4",
   "metadata": {},
   "source": [
    "### Colour Analysis"
   ]
  },
  {
   "cell_type": "code",
   "execution_count": 6,
   "id": "8a076d56-86a4-4e19-be42-c22ba511cc52",
   "metadata": {},
   "outputs": [
    {
     "data": {
      "text/plain": [
       "(255, 255, 255)    7006968\n",
       "(240, 32, 32)      5486840\n",
       "(0, 160, 80)       2518769\n",
       "(0, 96, 176)       2456491\n",
       "(255, 240, 0)      1683590\n",
       "                    ...   \n",
       "(64, 48, 112)            1\n",
       "(48, 16, 64)             1\n",
       "(96, 0, 32)              1\n",
       "(208, 176, 0)            1\n",
       "(48, 96, 80)             1\n",
       "Name: count, Length: 2289, dtype: int64"
      ]
     },
     "execution_count": 6,
     "metadata": {},
     "output_type": "execute_result"
    }
   ],
   "source": [
    "rgb_values = []\n",
    "for img in images:\n",
    "    values = list(img.getdata())\n",
    "    rounded_rgb = [(round_rgb(r), round_rgb(g), round_rgb(b)) for r, g, b in values]\n",
    "    rgb_values.extend(rounded_rgb)\n",
    "rgb_values = pd.Series(rgb_values)\n",
    "rgb_values.value_counts()"
   ]
  },
  {
   "cell_type": "code",
   "execution_count": 8,
   "id": "03268fb2-90ae-4154-b025-e55f94b0a96f",
   "metadata": {},
   "outputs": [
    {
     "data": {
      "text/plain": [
       "4096"
      ]
     },
     "execution_count": 8,
     "metadata": {},
     "output_type": "execute_result"
    }
   ],
   "source": [
    "all_colours = [list(range(0, 256, 16)), list(range(0, 256, 16)), list(range(0, 256, 16))]\n",
    "all_colours = set(itertools.product(*all_colours))\n",
    "len(all_colours)"
   ]
  },
  {
   "cell_type": "code",
   "execution_count": 9,
   "id": "c656d7f3-9b87-4bec-a47b-1db393c9e076",
   "metadata": {},
   "outputs": [
    {
     "data": {
      "text/plain": [
       "2032"
      ]
     },
     "execution_count": 9,
     "metadata": {},
     "output_type": "execute_result"
    }
   ],
   "source": [
    "unused_colours = all_colours - set(rgb_values.values)\n",
    "len(unused_colours)"
   ]
  },
  {
   "cell_type": "code",
   "execution_count": 10,
   "id": "2d4b0859-1a59-48d6-94e4-3edfe9681665",
   "metadata": {},
   "outputs": [
    {
     "name": "stderr",
     "output_type": "stream",
     "text": [
      "100%|████████████████████████████████████████████████████████████████████████████████████████████████████████████████████████████████████████████████████████████| 2032/2032 [38:06<00:00,  1.13s/it]\n"
     ]
    }
   ],
   "source": [
    "nodes = np.array([*rgb_values.values])\n",
    "furthest = 0\n",
    "furthest_point = (0, 0, 0)\n",
    "for rgb in tqdm(unused_colours):\n",
    "    node = np.array(rgb)\n",
    "    dist_2 = np.sum((nodes - node)**2, axis=1)\n",
    "    closest = np.min(dist_2)\n",
    "    if closest > furthest:\n",
    "        furthest = closest\n",
    "        furthest_point = node"
   ]
  },
  {
   "cell_type": "code",
   "execution_count": 11,
   "id": "7d504f8a-492f-4b07-b9de-894dcfb1923f",
   "metadata": {},
   "outputs": [
    {
     "data": {
      "image/png": "[encoded data removed]",
      "text/plain": [
       "<PIL.Image.Image image mode=RGB size=100x100>"
      ]
     },
     "execution_count": 11,
     "metadata": {},
     "output_type": "execute_result"
    }
   ],
   "source": [
    "Image.new(\"RGB\", (100, 100), color=tuple(furthest_point))"
   ]
  }
 ],
 "metadata": {
  "kernelspec": {
   "display_name": "Python 3 (ipykernel)",
   "language": "python",
   "name": "python3"
  },
  "language_info": {
   "codemirror_mode": {
    "name": "ipython",
    "version": 3
   },
   "file_extension": ".py",
   "mimetype": "text/x-python",
   "name": "python",
   "nbconvert_exporter": "python",
   "pygments_lexer": "ipython3",
   "version": "3.10.0"
  }
 },
 "nbformat": 4,
 "nbformat_minor": 5
}
