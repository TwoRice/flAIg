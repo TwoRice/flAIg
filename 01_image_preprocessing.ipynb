{
 "cells": [
  {
   "cell_type": "markdown",
   "id": "04698161-1220-4ff5-8876-fb052f43a545",
   "metadata": {},
   "source": [
    "### Imports"
   ]
  },
  {
   "cell_type": "code",
   "execution_count": 1,
   "id": "ed80ebe7-d87e-4750-8511-6f36fda4a0b5",
   "metadata": {},
   "outputs": [],
   "source": [
    "from glob import glob\n",
    "from PIL import Image"
   ]
  },
  {
   "cell_type": "markdown",
   "id": "acb973e4-7a78-42f6-aa28-37724d38ca91",
   "metadata": {},
   "source": [
    "### Constants"
   ]
  },
  {
   "cell_type": "code",
   "execution_count": 2,
   "id": "4962ddc5-dd5a-4321-ac23-dfd268a16f99",
   "metadata": {},
   "outputs": [],
   "source": [
    "FLAG_PATHS = glob(\"flag_images/*.gif\")\n",
    "IMAGE_SIZE = (96, 96)\n",
    "PADDING_COLOUR = (240, 0, 240)\n",
    "OUTPUT_PATH = \"training_data\""
   ]
  },
  {
   "cell_type": "markdown",
   "id": "24e9a2bc-0dcf-4bcb-a3fa-95da206f4d6f",
   "metadata": {},
   "source": [
    "### Utilities"
   ]
  },
  {
   "cell_type": "code",
   "execution_count": 3,
   "id": "5d296053-61c7-4085-ba56-9ebd5e3764e1",
   "metadata": {},
   "outputs": [],
   "source": [
    "def pad_and_resize_image(img, image_size, pad_colour=(255, 255, 255)):\n",
    "    width, height = img.size\n",
    "    if width > height:\n",
    "        new_width = image_size[0]\n",
    "        resize_factor = width / new_width \n",
    "        new_height = int(height / resize_factor)\n",
    "        to_pad = image_size[1] - new_height\n",
    "    else:\n",
    "        new_height = image_size[1]\n",
    "        resize_factor = height / new_height \n",
    "        new_width = int(width / resize_factor)\n",
    "        to_pad = image_size[1] - new_height\n",
    "\n",
    "    resized = img.resize((new_width, new_height))\n",
    "    resized_padded = Image.new(\"RGB\", image_size, color=pad_colour)\n",
    "    resized_padded.paste(resized, (0, 0))\n",
    "\n",
    "    return resized_padded"
   ]
  },
  {
   "cell_type": "code",
   "execution_count": 4,
   "id": "79d43b47-013e-4f23-9e14-2aaa65bbc927",
   "metadata": {},
   "outputs": [],
   "source": [
    "images = [Image.open(path).convert(\"RGB\") for path in FLAG_PATHS]"
   ]
  },
  {
   "cell_type": "code",
   "execution_count": 5,
   "id": "ca841488-2cb7-432b-8292-e8849b5e1685",
   "metadata": {
    "scrolled": true
   },
   "outputs": [],
   "source": [
    "resized_imgs = [pad_and_resize_image(img, IMAGE_SIZE, PADDING_COLOUR) for img in images]"
   ]
  },
  {
   "cell_type": "code",
   "execution_count": 6,
   "id": "609cccbe-5ddf-4d2b-b41b-1bad7eb4160c",
   "metadata": {},
   "outputs": [
    {
     "data": {
      "image/png": "[encoded data removed]",
      "text/plain": [
       "<PIL.Image.Image image mode=RGB size=96x96>"
      ]
     },
     "execution_count": 6,
     "metadata": {},
     "output_type": "execute_result"
    }
   ],
   "source": [
    "resized_imgs[165]"
   ]
  },
  {
   "cell_type": "code",
   "execution_count": 7,
   "id": "0b33a2f2-0b36-4745-9eec-4f9f4a4b575d",
   "metadata": {},
   "outputs": [],
   "source": [
    "for i, img in enumerate(resized_imgs):\n",
    "    img.save(f\"{OUTPUT_PATH}/{i}.png\", \"PNG\")"
   ]
  }
 ],
 "metadata": {
  "kernelspec": {
   "display_name": "Python 3 (ipykernel)",
   "language": "python",
   "name": "python3"
  },
  "language_info": {
   "codemirror_mode": {
    "name": "ipython",
    "version": 3
   },
   "file_extension": ".py",
   "mimetype": "text/x-python",
   "name": "python",
   "nbconvert_exporter": "python",
   "pygments_lexer": "ipython3",
   "version": "3.10.0"
  }
 },
 "nbformat": 4,
 "nbformat_minor": 5
}
